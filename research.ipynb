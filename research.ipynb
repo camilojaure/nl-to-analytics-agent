{
 "cells": [
  {
   "cell_type": "markdown",
   "metadata": {},
   "source": [
    "# Natural Language to SQL Agent Research\n",
    "## Goals\n",
    "- Convert natural language queries into SQL.\n",
    "- Fetch and analyze data from a database."
   ]
  },
  {
   "cell_type": "code",
   "execution_count": 12,
   "metadata": {},
   "outputs": [],
   "source": [
    "import pandas as pd\n",
    "import numpy as np\n",
    "from dotenv import load_dotenv\n",
    "import os\n",
    "\n",
    "from openai import OpenAI"
   ]
  },
  {
   "cell_type": "code",
   "execution_count": 7,
   "metadata": {},
   "outputs": [
    {
     "name": "stdout",
     "output_type": "stream",
     "text": [
      "API Key Loaded: True\n"
     ]
    }
   ],
   "source": [
    "\n",
    "# Load environment variables from .env\n",
    "load_dotenv()\n",
    "\n",
    "# Access API keys or other environment variables\n",
    "OPENAI_API_KEY = os.getenv(\"OPENAI_API_KEY\")\n",
    "print(\"API Key Loaded:\", bool(OPENAI_API_KEY))"
   ]
  },
  {
   "cell_type": "code",
   "execution_count": 18,
   "metadata": {},
   "outputs": [
    {
     "name": "stdout",
     "output_type": "stream",
     "text": [
      "To convert the request \"Show me total sales by region for 2023\" into SQL, you would typically use a `SELECT` statement with a `SUM()` function to aggregate sales by region. Assuming you have a table named `sales` with columns `sale_amount`, `region`, and `sale_date`, the SQL query might look like this:\n",
      "\n",
      "```sql\n",
      "SELECT region, SUM(sale_amount) AS total_sales\n",
      "FROM sales\n",
      "WHERE YEAR(sale_date) = 2023\n",
      "GROUP BY region;\n",
      "```\n",
      "\n",
      "This query selects the `region` and the total sales for each region by summing up the `sale_amount` for records where the `sale_date` is within the year 2023. The results are grouped by `region` to get totals for each one.\n"
     ]
    }
   ],
   "source": [
    "client = OpenAI(api_key=OPENAI_API_KEY)\n",
    "\n",
    "chat_completion = client.chat.completions.create(\n",
    "    messages=[\n",
    "        {\n",
    "            \"role\": \"system\",\n",
    "            \"content\": \"You're a brilliant data analyst, specializing in SQL and Python. You're working with a client who needs help with a data analysis project. I need you to ouput just the SQL query that would answer the client's question. Your ouput is going to be passed to a SQL database, so make sure it's in the correct format.\",\n",
    "            \"role\": \"user\",\n",
    "            \"content\":\"Convert this to SQL: 'Show me total sales by region for 2023'\",\n",
    "        }\n",
    "    ],\n",
    "    model=\"gpt-4o\",\n",
    ")\n",
    "\n",
    "print(chat_completion.choices[0].message.content)"
   ]
  },
  {
   "cell_type": "code",
   "execution_count": null,
   "metadata": {},
   "outputs": [],
   "source": []
  }
 ],
 "metadata": {
  "kernelspec": {
   "display_name": "env",
   "language": "python",
   "name": "python3"
  },
  "language_info": {
   "codemirror_mode": {
    "name": "ipython",
    "version": 3
   },
   "file_extension": ".py",
   "mimetype": "text/x-python",
   "name": "python",
   "nbconvert_exporter": "python",
   "pygments_lexer": "ipython3",
   "version": "3.10.13"
  }
 },
 "nbformat": 4,
 "nbformat_minor": 2
}
